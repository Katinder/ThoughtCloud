{
 "cells": [
  {
   "cell_type": "markdown",
   "metadata": {},
   "source": [
    "## ThoughtCloud: A script to generate Lyric word clouds of your favourite artist\n",
    "This project is a novel but simple idea that combines nlp with two of my favourite things, music and graphics. With this code one can visualize what their favourite artist's art is based upon. This code extracts data from the web with the help of a web scraping scipt(which took me a very long time to perfect), and then applies NLP techniques (ntlk toolkit) to process the raw data and then a data visualisation tool (wordcloud) to generate some awesome graphics!<br>\n",
    "<i> I have tried my best to document each line of my code. Please free feel to contact me for more insight into any of the aspects.</i>"
   ]
  },
  {
   "cell_type": "markdown",
   "metadata": {},
   "source": [
    "### Part 1: Importing all the required libraries that are to be used throughout the code"
   ]
  },
  {
   "cell_type": "code",
   "execution_count": 1,
   "metadata": {},
   "outputs": [],
   "source": [
    "import matplotlib.pyplot as plt #---------------for ploting the wordcloud in the notebook\n",
    "import nltk #-----------------------------------for processing text \n",
    "import numpy as np #----------------------------basic python library\n",
    "import pandas as pd #---------------------------for accessing the dataframe of lyrics\n",
    "import re #-------------------------------------regrex library for cleaing and processing text\n",
    "import random #---------------------------------to choose a random image mask\n",
    "\n",
    "import os #-------------------------------------to access files from the computer\n",
    "from os import path #---------------------------to access files through path\n",
    "from PIL import Image #-------------------------used here for generating mask for wordcloud\n",
    "\n",
    "from nltk.stem import WordNetLemmatizer #-------to lemmatize the raw data\n",
    "from wordcloud import WordCloud, ImageColorGenerator #--and finally to generate the wordcloud"
   ]
  },
  {
   "cell_type": "markdown",
   "metadata": {},
   "source": [
    "### Part 2: Getting the user's favourite artist's name"
   ]
  },
  {
   "cell_type": "code",
   "execution_count": 2,
   "metadata": {},
   "outputs": [
    {
     "name": "stdout",
     "output_type": "stream",
     "text": [
      "Enter your favourite artist: cold play\n"
     ]
    }
   ],
   "source": [
    "artist=input(\"Enter your favourite artist: \")"
   ]
  },
  {
   "cell_type": "markdown",
   "metadata": {},
   "source": [
    "### Part 3: Generating the URL to scrap lyrics to top 100 songs by the selected artist\n",
    "\n",
    "I have used www.songlyrics.com since they allow scraping without any interuption.<br> \n",
    "songlyrics.com follow this url format for every artist : http://www.songlyrics.com/artistname-lyrics/ <br>\n",
    "(SideNote: I also got blocked out of www.azlyrics.com for scraping data without permission, it was really hard to find a site that allowed a crawler to access their data, took me a lot of time)"
   ]
  },
  {
   "cell_type": "code",
   "execution_count": 3,
   "metadata": {},
   "outputs": [],
   "source": [
    "#generate the url\n",
    "if len(artist.split())<2:  #----------if artist name is a single term\n",
    "   \n",
    "    url=\"http://www.songlyrics.com/\"+artist.lower()+\"-lyrics/\"\n",
    "    \n",
    "else: #-------------------------------if artist name has spaces between them\n",
    "    url=\"http://www.songlyrics.com/\"+artist.lower().replace(\" \",\"-\")     \n",
    "    url=url+\"-lyrics/\"\n",
    "    "
   ]
  },
  {
   "cell_type": "markdown",
   "metadata": {},
   "source": [
    "### Part 4: Writing script to scrap lyrics(raw data) from the url\n",
    "\n",
    "This required the use of <i>NLP Assignment: 4</i>.<br>\n",
    "The script below creates a dataframe with the lyrics from top 100 songs by the artist.<br>\n",
    "The main task here involved identifying which html tags contain the required data (song name, links to the song lyrics, the genre of the artist)<br>\n",
    "This website had the tracklist in the form of an html table, with each table containing song name, song id and link (href) to the song.<br>\n",
    "The site has a lot of bad html therefore, to ensure that the links point to actual songs I have used regular expressions. And the site also has links to several versions of the same song (though same lyrics), the script also takes care of that with a simple if statement(simple but very useful for diversity in lyrics).<br>\n",
    "All these things required hours of debugging and trying numerous artists one by one.\n"
   ]
  },
  {
   "cell_type": "code",
   "execution_count": 5,
   "metadata": {},
   "outputs": [
    {
     "name": "stdout",
     "output_type": "stream",
     "text": [
      "processing...\n",
      "Dataframe generated!\n"
     ]
    },
    {
     "data": {
      "text/html": [
       "<div>\n",
       "<style scoped>\n",
       "    .dataframe tbody tr th:only-of-type {\n",
       "        vertical-align: middle;\n",
       "    }\n",
       "\n",
       "    .dataframe tbody tr th {\n",
       "        vertical-align: top;\n",
       "    }\n",
       "\n",
       "    .dataframe thead th {\n",
       "        text-align: right;\n",
       "    }\n",
       "</style>\n",
       "<table border=\"1\" class=\"dataframe\">\n",
       "  <thead>\n",
       "    <tr style=\"text-align: right;\">\n",
       "      <th></th>\n",
       "      <th>Song</th>\n",
       "      <th>Lyrics</th>\n",
       "    </tr>\n",
       "  </thead>\n",
       "  <tbody>\n",
       "    <tr>\n",
       "      <th>0</th>\n",
       "      <td>clocks</td>\n",
       "      <td>Lights go out and I can't be saved\\nTides that...</td>\n",
       "    </tr>\n",
       "    <tr>\n",
       "      <th>1</th>\n",
       "      <td>yellow</td>\n",
       "      <td>Look at the stars\\nLook how they shine for you...</td>\n",
       "    </tr>\n",
       "    <tr>\n",
       "      <th>2</th>\n",
       "      <td>love</td>\n",
       "      <td>i knew it right from the start with you in my ...</td>\n",
       "    </tr>\n",
       "  </tbody>\n",
       "</table>\n",
       "</div>"
      ],
      "text/plain": [
       "     Song                                             Lyrics\n",
       "0  clocks  Lights go out and I can't be saved\\nTides that...\n",
       "1  yellow  Look at the stars\\nLook how they shine for you...\n",
       "2    love  i knew it right from the start with you in my ..."
      ]
     },
     "execution_count": 5,
     "metadata": {},
     "output_type": "execute_result"
    }
   ],
   "source": [
    "#web scraping raw data\n",
    "\n",
    "#importing local libraries for accessing raw data from the web\n",
    "import requests #----------------------------------required for making GET requests to the web server\n",
    "from bs4 import BeautifulSoup #--------------------to grab and process the html\n",
    "import time #--------------------------------------required to slow down the number of requests made to the server\n",
    "\n",
    "try:\n",
    "    result=requests.get(url) #---------------------get data from the artist's url\n",
    "\n",
    "except:\n",
    "    print(\"Url cannot be accessed\") #--------------in case the request above fails\n",
    "\n",
    "soup = BeautifulSoup(result.text, \"html.parser\")#--parse the html from the requested data\n",
    "\n",
    "song_names=[] #------------------------------------list to contain the song names\n",
    "lyrics=[] #----------------------------------------list to contain all the lyrics \n",
    " \n",
    "table=soup.find('table',{'class':'tracklist'}) #---find the \"table\" tag from the html. This table tag cotains the tracklist \n",
    "\n",
    "genre=soup.find('div',{'class':'pagetitle'}) #-----find the artist's genre\n",
    "genre=genre.find('a').text #-----------------------extract the genre from the html\n",
    "genre=genre.lower() #------------------------------format the genre\n",
    "\n",
    "print(\"processing...\")\n",
    "\n",
    "#regular expressions for formatting song names (this formatting helps to identify repetition of songs)\n",
    "\n",
    "regex1=re.compile(\"(.*?)\\s*\\(\") #------------------to ignore any brackets in the song name ex: Olivia (Remix verion)=> Olivia\n",
    "regex2=re.compile(\"(.*?)\\s-\\s(.*?)\") #-------------to remove any '-' in the song name ex: Olivia-Remix => Olivia\n",
    "regex3=re.compile(\"(^[a-zA-Z0-9$@$!%*?&#^-_. +]+$)\") #--to check if the song name is valid, i.e. contains only ASCII characters\n",
    "\n",
    "# create tracklist\n",
    "i=1 #--------------------------------------------iterator to check if 100 unique songs have already been parsed\n",
    "for row in table.find_all('tr'): #---------------for each \"table row\" tag in the \"table\" of songs\n",
    "    \n",
    "    col=row.find_all('td') #---------------------find all \"table columns\" containing data\n",
    "    s=col[1].text.lower() #----------------------col[0] is song number and col[1] is song name\n",
    "        \n",
    "    try:\n",
    "        m=regex1.match(s) #---------------------check if there are any brackets in song name s\n",
    "        s=m.group(1) #--------------------------output the content before the brackets, ignoring any content thereafter\n",
    "\n",
    "    except:\n",
    "        pass #----------------------------------if regex matching fails, i.e. no brackets found, do nothing\n",
    "    \n",
    "    try:\n",
    "        m=regex2.match(s) #---------------------check if theres a \"-\" in the song name\n",
    "        s=m.group(1) #--------------------------extract content before the \"-\", ignoring anything after that\n",
    "        \n",
    "    except:\n",
    "        pass #----------------------------------if no \"-\" found, do nothing\n",
    "    \n",
    "    try:\n",
    "        m=regex3.match(s) #---------------------check if the song name contains ASCII characters\n",
    "        s=m.group(1) #--------------------------extract ASCII part of the name, ignore rest\n",
    "        \n",
    "    except:\n",
    "        continue #------------------------------if not ASCII, i.e. matching fails then go to start of loop and get next song\n",
    "    \n",
    "    if s not in song_names: #-------------------check if song is already in the list of songs already extracted\n",
    "        song_names.append(s) #------------------append to the list if a new song is found\n",
    "\n",
    "        if col[1].a is None: #------------------check if link to lyrics exist, if not then move to next song\n",
    "            pass\n",
    "\n",
    "        else:\n",
    "            lyrics_url=col[1].a.attrs['href'] #--extract url to lyrics from the <a> html tag\n",
    "            result=requests.get(lyrics_url) #----get data from the lyrics_url\n",
    "            lyric_soup=BeautifulSoup(result.text,'html.parser') #------------Parse html from requsted data\n",
    "            lyrics.append(lyric_soup.find('p',{'id':\"songLyricsDiv\"}).text) #--extract song lyrics from the <p> tag in the extracted html\n",
    "\n",
    "        i=i+1 #----------------------------------increase iterator by 1, i.e. 1 new song added to the list\n",
    "        #print(\"song number= \",i) \n",
    "        if i>100: #-------------------------------if 100 songs already extracted, then break out of loop\n",
    "            break\n",
    "    \n",
    "    else:\n",
    "        continue\n",
    "        \n",
    "    \n",
    "    time.sleep(0.5) #----------------------------add time delay between two requests to avoid appearing as a DOS attack\n",
    "\n",
    "\n",
    "df=pd.DataFrame({'Song': song_names, 'Lyrics':lyrics}) #---add the extracted content to a dataframe\n",
    "print('Dataframe generated!')\n",
    "\n",
    "df.head() #---------------------------------------view first 5 entries of df (just to be sure)"
   ]
  },
  {
   "cell_type": "markdown",
   "metadata": {},
   "source": [
    "### Part 5: Cleaning the raw data with nltk\n",
    "\n",
    "The data extracted into the dataframe contains a lot of unnecessary characters and elemenst and is filled with remenants of html, so I needed to clean the data before any further use. This required the use of basic string operations of python and nltk tools.<br><br>\n",
    "The following snippet reads all the lyrics from the dataframe into a string (all_lyrics) and it cleans the raw html, by removing newline (\"\\n\") elements and unnecessary backslashes (\"\\\\\")."
   ]
  },
  {
   "cell_type": "code",
   "execution_count": 6,
   "metadata": {},
   "outputs": [
    {
     "data": {
      "text/plain": [
       "\"lights go out and i can't be saved tides that i tried to swim against you've put me down upon my kne\""
      ]
     },
     "execution_count": 6,
     "metadata": {},
     "output_type": "execute_result"
    }
   ],
   "source": [
    "# cleaning raw text\n",
    "all_lyrics=\"\" #---------------------------------------------------------create empty list\n",
    "\n",
    "for index,row in df.iterrows(): #---------------------------------------iterate through the dataframe\n",
    "    lyrics=row['Lyrics'].lower().replace(\"\\n\",\" \").replace(\"\\\"\",\"\") #---get lyrics from dataframe and remove unwanted chars\n",
    "    all_lyrics=all_lyrics+lyrics #--------------------------------------add cleaned lyrics to the list\n",
    "\n",
    "all_lyrics[:100] #------------------------------------------------------display first 100 elements of lyric list"
   ]
  },
  {
   "cell_type": "markdown",
   "metadata": {},
   "source": [
    "The following snippet removes all the abbreviations (like \"i'm\",\"you're\") and replaces them with the corresponding expansions.\n",
    "Also any words with length less than 3 are removed from the string (which also means removing vocables like \"oh\", \"na\" \"la\" from the songs)"
   ]
  },
  {
   "cell_type": "code",
   "execution_count": 7,
   "metadata": {},
   "outputs": [
    {
     "data": {
      "text/plain": [
       "'lights saved tides that tried swim against have down upon knees beg, plead, singing come things unsa'"
      ]
     },
     "execution_count": 7,
     "metadata": {},
     "output_type": "execute_result"
    }
   ],
   "source": [
    "# cleaning the lyrics\n",
    "clean_lyrics=all_lyrics.replace(\"'ll\",\"\").replace(\"gotta\",\"got\").replace(\"i'm\",\"i am\") #-------------------replace statement 1\n",
    "clean_lyrics=clean_lyrics.replace(\"you're\",\"you are\").replace(\"can't\",\"can not\").replace(\"don't\",\"do not\")#-replace statement 2\n",
    "clean_lyrics=clean_lyrics.replace(\"doesn't\",\"does not\").replace(\"'s\",\" is\").replace(\"'ve\",\" have\") #--------replace statement 3\n",
    "\n",
    "clean_lyrics = ' '.join([w for w in clean_lyrics.split(' ') if len(w)>3]) #---------------remove lyrics with length less than 3\n",
    "clean_lyrics[:100] #----------------------------------------------------------------------display first 100 cleaned lyrics"
   ]
  },
  {
   "cell_type": "markdown",
   "metadata": {},
   "source": [
    "### Part 6: Tokenizing and Lemmatizing lyric data with nltk\n",
    "\n",
    "To analyze the lyrics in a more truthful manner, the different morphological forms of a word must be eliminated. This will give an essence of what the artist writes about the most.<br><br>\n",
    "The code below tokenizes the cleaned lyrics using nltk's word_tokenize function"
   ]
  },
  {
   "cell_type": "code",
   "execution_count": 8,
   "metadata": {},
   "outputs": [],
   "source": [
    "#tokenize and inspect tokens\n",
    "tokens=nltk.tokenize.word_tokenize(clean_lyrics) #------------------------tokenize the cleaned lyrics"
   ]
  },
  {
   "cell_type": "markdown",
   "metadata": {},
   "source": [
    "The code below lemmatizes the tokens and removes any left tokens with word length less than 3"
   ]
  },
  {
   "cell_type": "code",
   "execution_count": 9,
   "metadata": {},
   "outputs": [],
   "source": [
    "#lemmatize and inspect lemmatized tokens\n",
    "wnl=WordNetLemmatizer() #----------------------------------------------------------create lemmatizer object\n",
    "lemmatized_tokens=[wnl.lemmatize(word,'v') for word in tokens if len(word)>2] #----lemmatize the tokens"
   ]
  },
  {
   "cell_type": "markdown",
   "metadata": {},
   "source": [
    "This snippet removes any stop words like \"the\",\"that\",\"this\" , and creates a counter object to maintain count of all lemmatized tokens. This counter object will be used to create the word cloud in the end."
   ]
  },
  {
   "cell_type": "code",
   "execution_count": 10,
   "metadata": {},
   "outputs": [
    {
     "data": {
      "text/plain": [
       "[('home', 9),\n",
       " ('look', 9),\n",
       " ('shine', 8),\n",
       " ('yellow', 5),\n",
       " ('sing', 4),\n",
       " ('come', 4),\n",
       " ('want', 4),\n",
       " ('skin', 4),\n",
       " ('things', 3),\n",
       " ('nothing', 3),\n",
       " ('else', 3),\n",
       " ('compare', 3),\n",
       " ('yeah', 3),\n",
       " ('turn', 3),\n",
       " ('thing', 3),\n",
       " ('love', 3),\n",
       " ('swim', 2),\n",
       " ('upon', 2),\n",
       " ('stop', 2),\n",
       " ('part', 2)]"
      ]
     },
     "execution_count": 10,
     "metadata": {},
     "output_type": "execute_result"
    }
   ],
   "source": [
    "#remove stopwords and inspect tokens\n",
    "from collections import Counter #----------------------------------------local import to create a counter object\n",
    "from nltk.corpus import stopwords #--------------------------------------local import to remove stopwords\n",
    "stop_words = set(stopwords.words('english')) #---------------------------get unique stopwords of english\n",
    "stop_words.update([\"like\", \"away\", \"take\", \"know\", \"n't\"]) #-------------some recurrent unnecessary words\n",
    "filtered_tokens=[w for w in lemmatized_tokens if w not in stop_words] #--remove stop words and get filtered tokens\n",
    "\n",
    "count=Counter(filtered_tokens) #-----------------------------------------create a counter with word frequencies \n",
    "count.most_common(20) #--------------------------------------------------display 20 most common tokens in the lyrics"
   ]
  },
  {
   "cell_type": "markdown",
   "metadata": {},
   "source": [
    "### Part 7: Creating a mask for the wordcloud\n",
    "\n",
    "The following lines of code create an image mask for the final wordcloud. The code creates a mask according to the image path entered by the user. The word cloud will be in the shape of the image. If the image is not found, no mask is set to None, i.e. no mask will be applied."
   ]
  },
  {
   "cell_type": "code",
   "execution_count": 19,
   "metadata": {},
   "outputs": [],
   "source": [
    "#select wordcloud mask based on genre\n",
    "dir_path=path.dirname(r\"C:\\Users\\hp\\Desktop\\ThoughtCloud\\shapes\\\"\") #--------------------default repo path\n",
    "image_name=\"rock.jpg\"\n",
    "mask_flag=1\n",
    "\n",
    "try:\n",
    "    mask=np.array(Image.open(path.join(dir_path,image_name))) #--------------try opening the image from the repo\n",
    "except:\n",
    "    print(\"Image cannot be opened, setting mask to default\")\n",
    "    mask_flag=0\n",
    "    mask=None #--------------------------------------------------------------if image fails to open then use no mask\n"
   ]
  },
  {
   "cell_type": "markdown",
   "metadata": {},
   "source": [
    "### Part 8: Creating the WORDCLOUD !\n",
    "\n",
    "<i>The following snippet is where the magic actually happens.</i><br>\n",
    "FOr this, I created a wordcloud object with the some relevant parameters, and then generated the word cloud from the counter object created after cleaning, tokenizing and lemmatizing and again cleaning the lyrics. The wordcloud is displayed using the matplotlib functions."
   ]
  },
  {
   "cell_type": "code",
   "execution_count": 20,
   "metadata": {},
   "outputs": [
    {
     "data": {
      "image/png": "[encoded data removed]",
      "text/plain": [
       "<Figure size 1440x720 with 1 Axes>"
      ]
     },
     "metadata": {
      "needs_background": "light"
     },
     "output_type": "display_data"
    }
   ],
   "source": [
    "#create wordcloud\n",
    "\n",
    "wc=WordCloud(background_color=\"white\",max_words=10000,min_font_size=5,width=2000,height=2000,mask=mask) #---set parameters\n",
    "wc.generate_from_frequencies(count) #------------------------------------generate word cloud from counter object\n",
    "\n",
    "plt.figure(figsize=(20,10)) #--------------------------------------------fixing plot size for better view\n",
    "\n",
    "if mask_flag: #----------------------------------------------------------if mask is applied\n",
    "    image_colors=ImageColorGenerator(mask) #-----------------------------select the colors as in the mask\n",
    "    plt.imshow(wc.recolor(color_func=image_colors)) #--------------------recolor the wordcloud according to the mask\n",
    "else:\n",
    "    plt.imshow(wc) #-----------------------------------------------------if mask is None, show default colored wordcloud\n",
    "\n",
    "plt.axis(\"off\") #--------------------------------------------------------disable axis\n",
    "plt.show() #-------------------------------------------------------------show plot"
   ]
  },
  {
   "cell_type": "markdown",
   "metadata": {},
   "source": [
    "Save the wordcloud of your favourite artist's lyrics to your system and then have it printed upon a T-shirt or a coffee mug!!"
   ]
  },
  {
   "cell_type": "code",
   "execution_count": 21,
   "metadata": {},
   "outputs": [
    {
     "data": {
      "text/plain": [
       "<wordcloud.wordcloud.WordCloud at 0x1b2df66ae80>"
      ]
     },
     "execution_count": 21,
     "metadata": {},
     "output_type": "execute_result"
    }
   ],
   "source": [
    "d_path=path.dirname(r\"C:\\Users\\hp\\Desktop\\\"\") #----------------set path to save the image file\n",
    "image_name=artist+\".jpg\" #-------------------------------------set name of the image\n",
    "wc.to_file(path.join(d_path,image_name)) #---------------------save the figure as a jpg"
   ]
  }
 ],
 "metadata": {
  "kernelspec": {
   "display_name": "Python 3",
   "language": "python",
   "name": "python3"
  },
  "language_info": {
   "codemirror_mode": {
    "name": "ipython",
    "version": 3
   },
   "file_extension": ".py",
   "mimetype": "text/x-python",
   "name": "python",
   "nbconvert_exporter": "python",
   "pygments_lexer": "ipython3",
   "version": "3.7.3"
  }
 },
 "nbformat": 4,
 "nbformat_minor": 2
}
